{
 "cells": [
  {
   "cell_type": "code",
   "execution_count": 1,
   "metadata": {
    "scrolled": false
   },
   "outputs": [
    {
     "data": {
      "application/javascript": [
       "require.undef(\"nbextensions/vpython_libraries/glow.min\");"
      ],
      "text/plain": [
       "<IPython.core.display.Javascript object>"
      ]
     },
     "metadata": {},
     "output_type": "display_data"
    },
    {
     "data": {
      "application/javascript": [
       "require.undef(\"nbextensions/vpython_libraries/glowcomm\");"
      ],
      "text/plain": [
       "<IPython.core.display.Javascript object>"
      ]
     },
     "metadata": {},
     "output_type": "display_data"
    },
    {
     "data": {
      "application/javascript": [
       "require.undef(\"nbextensions/vpython_libraries/jquery-ui.custom.min\");"
      ],
      "text/plain": [
       "<IPython.core.display.Javascript object>"
      ]
     },
     "metadata": {},
     "output_type": "display_data"
    },
    {
     "data": {
      "application/javascript": [
       "require([\"nbextensions/vpython_libraries/glow.min\"], function(){console.log(\"GLOW LOADED\");})"
      ],
      "text/plain": [
       "<IPython.core.display.Javascript object>"
      ]
     },
     "metadata": {},
     "output_type": "display_data"
    },
    {
     "data": {
      "application/javascript": [
       "require([\"nbextensions/vpython_libraries/glowcomm\"], function(){console.log(\"GLOWCOMM LOADED\");})"
      ],
      "text/plain": [
       "<IPython.core.display.Javascript object>"
      ]
     },
     "metadata": {},
     "output_type": "display_data"
    },
    {
     "data": {
      "application/javascript": [
       "require([\"nbextensions/vpython_libraries/jquery-ui.custom.min\"], function(){console.log(\"JQUERY LOADED\");})"
      ],
      "text/plain": [
       "<IPython.core.display.Javascript object>"
      ]
     },
     "metadata": {},
     "output_type": "display_data"
    },
    {
     "data": {
      "text/html": [
       "<div id=\"glowscript\" class=\"glowscript\"></div>"
      ],
      "text/plain": [
       "<IPython.core.display.HTML object>"
      ]
     },
     "metadata": {},
     "output_type": "display_data"
    },
    {
     "data": {
      "application/javascript": [
       "window.__context = { glowscript_container: $(\"#glowscript\").removeAttr(\"id\")}"
      ],
      "text/plain": [
       "<IPython.core.display.Javascript object>"
      ]
     },
     "metadata": {},
     "output_type": "display_data"
    },
    {
     "data": {
      "text/html": [
       "<div id=\"glowscript\" class=\"glowscript\"></div>"
      ],
      "text/plain": [
       "<IPython.core.display.HTML object>"
      ]
     },
     "metadata": {},
     "output_type": "display_data"
    },
    {
     "data": {
      "application/javascript": [
       "window.__context = { glowscript_container: $(\"#glowscript\").removeAttr(\"id\")}"
      ],
      "text/plain": [
       "<IPython.core.display.Javascript object>"
      ]
     },
     "metadata": {},
     "output_type": "display_data"
    }
   ],
   "source": [
    "from vpython import *\n",
    "from numpy import matrix\n",
    "from numpy import linalg\n",
    "import math\n",
    "scene = canvas()"
   ]
  },
  {
   "cell_type": "code",
   "execution_count": 2,
   "metadata": {},
   "outputs": [
    {
     "ename": "NameError",
     "evalue": "name 'matrix' is not defined",
     "output_type": "error",
     "traceback": [
      "\u001b[1;31m---------------------------------------------------------------------------\u001b[0m",
      "\u001b[1;31mNameError\u001b[0m                                 Traceback (most recent call last)",
      "\u001b[1;32m<ipython-input-2-1de20cd893dd>\u001b[0m in \u001b[0;36m<module>\u001b[1;34m()\u001b[0m\n\u001b[0;32m     61\u001b[0m         \u001b[1;31m#Transform Position and Velocity\u001b[0m\u001b[1;33m\u001b[0m\u001b[1;33m\u001b[0m\u001b[0m\n\u001b[0;32m     62\u001b[0m         \u001b[0mtheta_z\u001b[0m \u001b[1;33m=\u001b[0m \u001b[0mj\u001b[0m\u001b[1;33m*\u001b[0m\u001b[0mpi\u001b[0m\u001b[1;33m/\u001b[0m\u001b[0mk\u001b[0m \u001b[1;31m#rotation angle about z axis\u001b[0m\u001b[1;33m\u001b[0m\u001b[0m\n\u001b[1;32m---> 63\u001b[1;33m         Rot_z = matrix([[cos(theta_z), -sin(theta_z), 0],\n\u001b[0m\u001b[0;32m     64\u001b[0m                         \u001b[1;33m[\u001b[0m\u001b[0msin\u001b[0m\u001b[1;33m(\u001b[0m\u001b[0mtheta_z\u001b[0m\u001b[1;33m)\u001b[0m\u001b[1;33m,\u001b[0m \u001b[0mcos\u001b[0m\u001b[1;33m(\u001b[0m\u001b[0mtheta_z\u001b[0m\u001b[1;33m)\u001b[0m\u001b[1;33m,\u001b[0m \u001b[1;36m0\u001b[0m\u001b[1;33m]\u001b[0m\u001b[1;33m,\u001b[0m\u001b[1;33m\u001b[0m\u001b[0m\n\u001b[0;32m     65\u001b[0m                         [0, 0, 1]])   \n",
      "\u001b[1;31mNameError\u001b[0m: name 'matrix' is not defined"
     ]
    }
   ],
   "source": [
    "# Orbit Calculations\n",
    "# Precalculating orbital trajectories so that we don't have to do live calculations during simulation.\n",
    "\n",
    "# For each satellite, calculate position and velocity as before, but for ONE REVOLUTION ONLY\n",
    "    # Do this for n satellites in k orbits\n",
    "    # Record positions and velocities in a lists\n",
    "    # In the end we should have n*k lists\n",
    "# Afterwards we just have to index through each list infinitely, starting from the beginning when we reach the list's end\n",
    "    #When i = len(list)\n",
    "\n",
    "r=2.5 #orbital radius in terms of radius of the planet\n",
    "GM=1.47  #GM as determined from the game\n",
    "v=sqrt(GM/r)  #starting speed for a circular orbit\n",
    "rt=0.0338   #this is the acceleration due to the rocket\n",
    "pi = math.pi;\n",
    "\n",
    "# k is number of orbits\n",
    "k = 3\n",
    "\n",
    "# n is number of satellites in each orbit\n",
    "n = 3\n",
    "\n",
    "#Position and Velocity Angles\n",
    "theta = 0 #POLAR. 0 is the flat plane case\n",
    "phi = 2*pi/n #AZIMUTHAL\n",
    "\n",
    "#Tangential Velocities\n",
    "v_t = 0\n",
    "v_p = v\n",
    "\n",
    "#need a way to create n orbits of n satellites. The latter has been done already.\n",
    "orbits = list()\n",
    "for j in range(k): #index through orbits\n",
    "    sats = list()\n",
    "    for i in range(n): #index through satellites\n",
    "        # Initial Position\n",
    "        # Note that only the initial position requires these calculations; subsequent ones don't.\n",
    "        Rx = r*sin(i*phi)*cos(theta)\n",
    "        Ry = r*sin(theta)\n",
    "        Rz = r*cos(i*phi)*cos(theta)\n",
    "\n",
    "        # Velocity\n",
    "        Vx = -v_p*cos(i*phi)*cos(theta) - v_t*sin(i*phi)*sin(theta)\n",
    "        Vy = v_t*cos(theta)\n",
    "        Vz = v_p*sin(i*phi)*cos(theta) - v_t*cos(i*phi)*sin(theta)\n",
    "\n",
    "        #Transform Position and Velocity\n",
    "        theta_z = j*pi/k #rotation angle about z axis \n",
    "        Rot_z = matrix([[cos(theta_z), -sin(theta_z), 0],\n",
    "                        [sin(theta_z), cos(theta_z), 0],\n",
    "                        [0, 0, 1]])   \n",
    "\n",
    "        R_vec = matrix([[Rx],[Ry],[Rz]])\n",
    "        R_vec = Rot_z*R_vec  \n",
    "\n",
    "        V_vec = matrix([[Vx],[Vy],[Vz]])\n",
    "        V_vec = Rot_z*V_vec  \n",
    "\n",
    "        m = 1\n",
    "        pos=vector(R_vec[0],R_vec[1],R_vec[2]) #initial position\n",
    "        p=m*vector(V_vec[0],V_vec[1],V_vec[2]) #initial momentum\n",
    "        \n",
    "        #what can i use in place of sat? Need some object... JUST USE POS AND P\n",
    "        #Trajectory Calculation\n",
    "        trajectory = list()\n",
    "        t=0\n",
    "        dt=0.1\n",
    "        tracker = 0\n",
    "        while (tracker < 2*pi) #index through satellite trajectory positions\n",
    "            p=p-GM*norm(pos)*dt/mag(pos)**2\n",
    "            pos=pos+p*dt/m\n",
    "            trajectory.append([p,pos])\n",
    "            tracker = tracker + dt*2*pi\n",
    "            \n",
    "        sats.append(trajectory)\n",
    "    orbits.append(sats)\n",
    "\n",
    "            \n",
    "            \n"
   ]
  },
  {
   "cell_type": "code",
   "execution_count": null,
   "metadata": {},
   "outputs": [],
   "source": [
    "#Reference Coordinate Axes\n",
    "x_pointer = arrow(pos=vector(0,5,0), axis=vector(3,0,0), shaftwidth=0.5, color=color.white)\n",
    "y_pointer = arrow(pos=vector(0,5,0), axis=vector(0,3,0), shaftwidth=0.5, color=color.red)\n",
    "z_pointer = arrow(pos=vector(0,5,0), axis=vector(0,0,3), shaftwidth=0.5, color=color.yellow)\n",
    "\n",
    "#Time Tracking\n",
    "t=0\n",
    "dt=0.1 #affects smoothness of orbits\n",
    " \n",
    "#is there any way to track smoother paths? Smaller time steps probably. Or change the rate?\n",
    "# Update orbital positions\n",
    "while True:\n",
    "    rate(10) #obligatory statement in Vpython in order to animate\n",
    "    for sats in orbits:\n",
    "        for trajectory in sats\n",
    "            sat.p=sat.p-GM*norm(sat.pos)*dt/mag(sat.pos)**2\n",
    "            sat.pos=sat.pos+sat.p*dt/sat.m\n",
    "  \n",
    "\n",
    "            sat = sphere(pos=vector(R_vec[0],R_vec[1],R_vec[2]), radius=0.1, color=color.white, make_trail=True)\n",
    "            sat.m = 1\n",
    "            sat.p=sat.m*vector(V_vec[0],V_vec[1],V_vec[2]) #initial momentum\n",
    "\n",
    "\n",
    "#First create n satellites in k orbits and initialize them with initial position and momentum\n",
    "#Then index each sat's position and momentum using the lists. Animate this part.\n",
    "        \n",
    "        \n",
    "    #for sat in sats2:\n",
    "     #   sat.p=sat.p-GM*norm(sat.pos)*dt/mag(sat.pos)**2\n",
    "      #  sat.pos=sat.pos+sat.p*dt/sat.m\n",
    "'''\n",
    "t=0\n",
    "dt=.01\n",
    "\n",
    "#satellite characteristics\n",
    "sat1.m=1\n",
    "sat1.p=sat1.m*vector(0,-v,0) #initial momentum\n",
    "#sat2.m=1\n",
    "#sat2.p=sat2.m*vector(0,v,0) #initial momentum\n",
    "\n",
    "scale=3\n",
    "\n",
    "while t<300: #if I make it an infinite loop it will run continuously\n",
    "    rate(100)\n",
    "\n",
    "    #update stuff for the sat1 orbit\n",
    "    sat1.p=sat1.p-GM*norm(sat1.pos)*dt/mag(sat1.pos)**2\n",
    "    sat1.pos=sat1.pos+sat1.p*dt/sat1.m\n",
    "    \n",
    "   # sat2.p=sat2.p-GM*norm(sat2.pos)*dt/mag(sat2.pos)**2\n",
    "   # sat2.pos=sat2.pos+sat2.p*dt/sat2.m\n",
    " \n",
    "'''"
   ]
  }
 ],
 "metadata": {
  "kernelspec": {
   "display_name": "VPython",
   "language": "python",
   "name": "vpython"
  },
  "language_info": {
   "codemirror_mode": {
    "name": "ipython",
    "version": 3
   },
   "file_extension": ".py",
   "mimetype": "text/x-python",
   "name": "python",
   "nbconvert_exporter": "python",
   "pygments_lexer": "ipython3",
   "version": "3.6.4"
  }
 },
 "nbformat": 4,
 "nbformat_minor": 2
}
