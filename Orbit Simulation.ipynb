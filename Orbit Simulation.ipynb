{
 "cells": [
  {
   "cell_type": "code",
   "execution_count": 1,
   "metadata": {
    "collapsed": false,
    "scrolled": false
   },
   "outputs": [
    {
     "data": {
      "application/javascript": [
       "require.undef(\"nbextensions/vpython_libraries/glow.min\");"
      ],
      "text/plain": [
       "<IPython.core.display.Javascript object>"
      ]
     },
     "metadata": {},
     "output_type": "display_data"
    },
    {
     "data": {
      "application/javascript": [
       "require.undef(\"nbextensions/vpython_libraries/glowcomm\");"
      ],
      "text/plain": [
       "<IPython.core.display.Javascript object>"
      ]
     },
     "metadata": {},
     "output_type": "display_data"
    },
    {
     "data": {
      "application/javascript": [
       "require.undef(\"nbextensions/vpython_libraries/jquery-ui.custom.min\");"
      ],
      "text/plain": [
       "<IPython.core.display.Javascript object>"
      ]
     },
     "metadata": {},
     "output_type": "display_data"
    },
    {
     "data": {
      "application/javascript": [
       "require([\"nbextensions/vpython_libraries/glow.min\"], function(){console.log(\"GLOW LOADED\");})"
      ],
      "text/plain": [
       "<IPython.core.display.Javascript object>"
      ]
     },
     "metadata": {},
     "output_type": "display_data"
    },
    {
     "data": {
      "application/javascript": [
       "require([\"nbextensions/vpython_libraries/glowcomm\"], function(){console.log(\"GLOWCOMM LOADED\");})"
      ],
      "text/plain": [
       "<IPython.core.display.Javascript object>"
      ]
     },
     "metadata": {},
     "output_type": "display_data"
    },
    {
     "data": {
      "application/javascript": [
       "require([\"nbextensions/vpython_libraries/jquery-ui.custom.min\"], function(){console.log(\"JQUERY LOADED\");})"
      ],
      "text/plain": [
       "<IPython.core.display.Javascript object>"
      ]
     },
     "metadata": {},
     "output_type": "display_data"
    },
    {
     "data": {
      "text/html": [
       "<div id=\"glowscript\" class=\"glowscript\"></div>"
      ],
      "text/plain": [
       "<IPython.core.display.HTML object>"
      ]
     },
     "metadata": {},
     "output_type": "display_data"
    },
    {
     "data": {
      "application/javascript": [
       "window.__context = { glowscript_container: $(\"#glowscript\").removeAttr(\"id\")}"
      ],
      "text/plain": [
       "<IPython.core.display.Javascript object>"
      ]
     },
     "metadata": {},
     "output_type": "display_data"
    },
    {
     "data": {
      "text/html": [
       "<div id=\"glowscript\" class=\"glowscript\"></div>"
      ],
      "text/plain": [
       "<IPython.core.display.HTML object>"
      ]
     },
     "metadata": {},
     "output_type": "display_data"
    },
    {
     "data": {
      "application/javascript": [
       "window.__context = { glowscript_container: $(\"#glowscript\").removeAttr(\"id\")}"
      ],
      "text/plain": [
       "<IPython.core.display.Javascript object>"
      ]
     },
     "metadata": {},
     "output_type": "display_data"
    }
   ],
   "source": [
    "from vpython import *\n",
    "import math\n",
    "scene = canvas()"
   ]
  },
  {
   "cell_type": "code",
   "execution_count": null,
   "metadata": {
    "collapsed": false
   },
   "outputs": [],
   "source": [
    "#any way to make save orbits for a full revolution so that we don't keep computing it?\n",
    "\n",
    "#any way to make orbits line up perfectly?\n",
    "Earth=sphere(pos=vector(0,0,0), radius =1, texture=\"https://i.imgur.com/UZWE6M7.jpg\")\n",
    "\n",
    "R=2.5 #orbital radius in terms of radius of the planet\n",
    "GM=1.47  #GM as determined from the game\n",
    "v=sqrt(GM/R)  #starting speed for a circular orbit\n",
    "rt=0.0338   #this is the acceleration due to the rocket\n",
    "pi = math.pi;\n",
    "\n",
    "# n is number of satellites in this orbit\n",
    "'''May need to create a class called Sat later'''\n",
    "n = 3\n",
    "theta = pi/6 #inclination of orbit, in radians\n",
    "\n",
    "#need a way to create n orbits of n satellites. The latter has been done already.\n",
    "sats1 = list()\n",
    "for i in range(n):\n",
    "    # Position\n",
    "    #Should I switch to standard spherical coordinates? Right now I have polar but with an inclination\n",
    "    Rx = R*math.cos(i*2*pi/n) #need to include i to initialize multiple satellites\n",
    "    Ry = R*math.sin(i*2*pi/n)\n",
    "    Rz = R*math.cos(i*2*pi/n - i*pi/2*n)*math.sin(theta) #keep things 2D for now #Use Rz to control inclination\n",
    "    \n",
    "    # Velocity\n",
    "    # Look for vector of a tangent to a circle in spherical coordinates\n",
    "    Vx = v*math.sin(i*2*pi/n)*math.sin(theta)\n",
    "    Vy = -v*math.cos(i*2*pi/n)*math.sin(theta)\n",
    "    Vz = v*math.cos(theta)*math.sin(theta)\n",
    "    \n",
    "    sat = sphere(pos=vector(Rx,Ry,Rz), radius=0.1, color=color.white, make_trail=True)\n",
    "    sat.m = 1\n",
    "    sat.p=sat.m*vector(Vx,Vy,Vz) #initial momentum\n",
    "    sats1.append(sat)\n",
    "    \n",
    "'''\n",
    "sats2 = list()\n",
    "for i in range(n):\n",
    "    # Position\n",
    "    Rx = R*math.cos(i*2*pi/n) #need to include i to initialize multiple satellites\n",
    "    Ry = R*math.sin(i*2*pi/n)\n",
    "    Rz = -1 #keep things 2D for now \n",
    "    \n",
    "    # Velocity\n",
    "    Vx = v*math.sin(i*2*pi/n)\n",
    "    Vy = -v*math.cos(i*2*pi/n)\n",
    "    Vz = 0\n",
    "    \n",
    "    sat = sphere(pos=vector(Rx,Ry,Rz), radius=0.1, color=color.white, make_trail=True)\n",
    "    sat.m = 1\n",
    "    sat.p=sat.m*vector(Vx,Vy,Vz) #initial momentum\n",
    "    sats2.append(sat)\n",
    "'''\n",
    "\n",
    "t=0\n",
    "dt=0.1 #affects smoothness of orbits\n",
    " \n",
    "#is there any way to track smoother paths? Smaller time steps probably. Or change the rate?\n",
    "# Update orbital positions\n",
    "while True:\n",
    "    rate(10) #affects smoothness of orbits\n",
    "    for sat in sats1:\n",
    "        sat.p=sat.p-GM*norm(sat.pos)*dt/mag(sat.pos)**2\n",
    "        sat.pos=sat.pos+sat.p*dt/sat.m\n",
    "    #for sat in sats2:\n",
    "     #   sat.p=sat.p-GM*norm(sat.pos)*dt/mag(sat.pos)**2\n",
    "      #  sat.pos=sat.pos+sat.p*dt/sat.m\n",
    "'''\n",
    "t=0\n",
    "dt=.01\n",
    "\n",
    "#satellite characteristics\n",
    "sat1.m=1\n",
    "sat1.p=sat1.m*vector(0,-v,0) #initial momentum\n",
    "sat2.m=1\n",
    "sat2.p=sat2.m*vector(0,v,0) #initial momentum\n",
    "\n",
    "scale=3\n",
    "\n",
    "while t<300: #if I make it an infinite loop it will run continuously\n",
    "    rate(100)\n",
    "\n",
    "    #update stuff for the sat1 orbit\n",
    "    sat1.p=sat1.p-GM*norm(sat1.pos)*dt/mag(sat1.pos)**2\n",
    "    sat1.pos=sat1.pos+sat1.p*dt/sat1.m\n",
    "    \n",
    "    sat2.p=sat2.p-GM*norm(sat2.pos)*dt/mag(sat2.pos)**2\n",
    "    sat2.pos=sat2.pos+sat2.p*dt/sat2.m\n",
    "    \n",
    "    '''"
   ]
  },
  {
   "cell_type": "code",
   "execution_count": null,
   "metadata": {
    "collapsed": true
   },
   "outputs": [],
   "source": []
  },
  {
   "cell_type": "code",
   "execution_count": null,
   "metadata": {
    "collapsed": true
   },
   "outputs": [],
   "source": []
  },
  {
   "cell_type": "code",
   "execution_count": null,
   "metadata": {
    "collapsed": true
   },
   "outputs": [],
   "source": []
  },
  {
   "cell_type": "code",
   "execution_count": null,
   "metadata": {
    "collapsed": true
   },
   "outputs": [],
   "source": []
  }
 ],
 "metadata": {
  "kernelspec": {
   "display_name": "VPython",
   "language": "python",
   "name": "vpython"
  },
  "language_info": {
   "codemirror_mode": {
    "name": "ipython",
    "version": 2
   },
   "file_extension": ".py",
   "mimetype": "text/x-python",
   "name": "python",
   "nbconvert_exporter": "python",
   "pygments_lexer": "ipython2",
   "version": "2.7.10"
  }
 },
 "nbformat": 4,
 "nbformat_minor": 2
}
