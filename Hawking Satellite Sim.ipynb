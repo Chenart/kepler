{
 "cells": [
  {
   "cell_type": "code",
   "execution_count": 3,
   "metadata": {
    "collapsed": false,
    "scrolled": false
   },
   "outputs": [
    {
     "ename": "ImportError",
     "evalue": "No module named 'vpython'",
     "output_type": "error",
     "traceback": [
      "\u001b[0;31m---------------------------------------------------------------------------\u001b[0m",
      "\u001b[0;31mImportError\u001b[0m                               Traceback (most recent call last)",
      "\u001b[0;32m<ipython-input-3-66904ebe9507>\u001b[0m in \u001b[0;36m<module>\u001b[0;34m()\u001b[0m\n\u001b[0;32m----> 1\u001b[0;31m \u001b[0;32mfrom\u001b[0m \u001b[0mvpython\u001b[0m \u001b[0;32mimport\u001b[0m \u001b[0;34m*\u001b[0m\u001b[0;34m\u001b[0m\u001b[0m\n\u001b[0m\u001b[1;32m      2\u001b[0m \u001b[0;32mimport\u001b[0m \u001b[0mmath\u001b[0m\u001b[0;34m\u001b[0m\u001b[0m\n\u001b[1;32m      3\u001b[0m \u001b[0mscene\u001b[0m \u001b[0;34m=\u001b[0m \u001b[0mcanvas\u001b[0m\u001b[0;34m(\u001b[0m\u001b[0;34m)\u001b[0m\u001b[0;34m\u001b[0m\u001b[0m\n",
      "\u001b[0;31mImportError\u001b[0m: No module named 'vpython'"
     ]
    }
   ],
   "source": [
    "from vpython import *\n",
    "import math\n",
    "scene = canvas()\n"
   ]
  },
  {
   "cell_type": "code",
   "execution_count": 4,
   "metadata": {
    "collapsed": false
   },
   "outputs": [
    {
     "ename": "NameError",
     "evalue": "name 'sphere' is not defined",
     "output_type": "error",
     "traceback": [
      "\u001b[0;31m---------------------------------------------------------------------------\u001b[0m",
      "\u001b[0;31mNameError\u001b[0m                                 Traceback (most recent call last)",
      "\u001b[0;32m<ipython-input-4-cab886757b51>\u001b[0m in \u001b[0;36m<module>\u001b[0;34m()\u001b[0m\n\u001b[1;32m      1\u001b[0m \u001b[0;31m#any way to make orbits line up perfectly?\u001b[0m\u001b[0;34m\u001b[0m\u001b[0;34m\u001b[0m\u001b[0m\n\u001b[0;32m----> 2\u001b[0;31m \u001b[0mEarth\u001b[0m\u001b[0;34m=\u001b[0m\u001b[0msphere\u001b[0m\u001b[0;34m(\u001b[0m\u001b[0mpos\u001b[0m\u001b[0;34m=\u001b[0m\u001b[0mvector\u001b[0m\u001b[0;34m(\u001b[0m\u001b[0;36m0\u001b[0m\u001b[0;34m,\u001b[0m\u001b[0;36m0\u001b[0m\u001b[0;34m,\u001b[0m\u001b[0;36m0\u001b[0m\u001b[0;34m)\u001b[0m\u001b[0;34m,\u001b[0m \u001b[0mradius\u001b[0m \u001b[0;34m=\u001b[0m\u001b[0;36m1\u001b[0m\u001b[0;34m,\u001b[0m \u001b[0mtexture\u001b[0m\u001b[0;34m=\u001b[0m\u001b[0;34m\"https://i.imgur.com/UZWE6M7.jpg\"\u001b[0m\u001b[0;34m)\u001b[0m\u001b[0;34m\u001b[0m\u001b[0m\n\u001b[0m\u001b[1;32m      3\u001b[0m \u001b[0;34m\u001b[0m\u001b[0m\n\u001b[1;32m      4\u001b[0m \u001b[0mR\u001b[0m\u001b[0;34m=\u001b[0m\u001b[0;36m2.5\u001b[0m \u001b[0;31m#orbita radius in terms of radius of the planet\u001b[0m\u001b[0;34m\u001b[0m\u001b[0m\n\u001b[1;32m      5\u001b[0m \u001b[0mGM\u001b[0m\u001b[0;34m=\u001b[0m\u001b[0;36m1.47\u001b[0m  \u001b[0;31m#GM as determined from the game\u001b[0m\u001b[0;34m\u001b[0m\u001b[0m\n",
      "\u001b[0;31mNameError\u001b[0m: name 'sphere' is not defined"
     ]
    }
   ],
   "source": [
    "#any way to make orbits line up perfectly?\n",
    "Earth=sphere(pos=vector(0,0,0), radius =1, texture=\"https://i.imgur.com/UZWE6M7.jpg\")\n",
    "\n",
    "R=2.5 #orbita radius in terms of radius of the planet\n",
    "GM=1.47  #GM as determined from the game\n",
    "v=sqrt(GM/R)  #starting speed for a circular orbit\n",
    "rt=0.0338   #this is the acceleration due to the rocket\n",
    "pi = math.pi;\n",
    "\n",
    "# n is number of satellites in this orbit\n",
    "'''May need to create a class called Sat later'''\n",
    "n = 6\n",
    "\n",
    "#need a way to create n orbits of n satellites. The latter has been done already.\n",
    "sats1 = list()\n",
    "for i in range(n):\n",
    "    # Position\n",
    "    Rx = R*math.cos(i*2*pi/n) #need to include i to initialize multiple satellites\n",
    "    Ry = R*math.sin(i*2*pi/n)\n",
    "    Rz = 0 #keep things 2D for now \n",
    "    \n",
    "    # Velocity\n",
    "    Vx = v*math.sin(i*2*pi/n)\n",
    "    Vy = -v*math.cos(i*2*pi/n)\n",
    "    Vz = 0\n",
    "    \n",
    "    sat = sphere(pos=vector(Rx,Ry,Rz), radius=0.1, color=color.white, make_trail=True)\n",
    "    sat.m = 1\n",
    "    sat.p=sat.m*vector(Vx,Vy,Vz) #initial momentum\n",
    "    sats1.append(sat)\n",
    "    \n",
    "'''\n",
    "sats2 = list()\n",
    "for i in range(n):\n",
    "    # Position\n",
    "    Rx = R*math.cos(i*2*pi/n) #need to include i to initialize multiple satellites\n",
    "    Ry = R*math.sin(i*2*pi/n)\n",
    "    Rz = -1 #keep things 2D for now \n",
    "    \n",
    "    # Velocity\n",
    "    Vx = v*math.sin(i*2*pi/n)\n",
    "    Vy = -v*math.cos(i*2*pi/n)\n",
    "    Vz = 0\n",
    "    \n",
    "    sat = sphere(pos=vector(Rx,Ry,Rz), radius=0.1, color=color.white, make_trail=True)\n",
    "    sat.m = 1\n",
    "    sat.p=sat.m*vector(Vx,Vy,Vz) #initial momentum\n",
    "    sats2.append(sat)\n",
    "'''\n",
    "\n",
    "t=0\n",
    "dt=0.1 #affects smoothness of orbits\n",
    " \n",
    "#is there any way to track smoother paths? Smaller time steps probably. Or change the rate?\n",
    "# Update orbital positions\n",
    "while True:\n",
    "    rate(10) #affects smoothness of orbits\n",
    "    for sat in sats1:\n",
    "        sat.p=sat.p-GM*norm(sat.pos)*dt/mag(sat.pos)**2\n",
    "        sat.pos=sat.pos+sat.p*dt/sat.m\n",
    "    #for sat in sats2:\n",
    "     #   sat.p=sat.p-GM*norm(sat.pos)*dt/mag(sat.pos)**2\n",
    "      #  sat.pos=sat.pos+sat.p*dt/sat.m\n",
    "'''\n",
    "t=0\n",
    "dt=.01\n",
    "\n",
    "#satellite characteristics\n",
    "sat1.m=1\n",
    "sat1.p=sat1.m*vector(0,-v,0) #initial momentum\n",
    "sat2.m=1\n",
    "sat2.p=sat2.m*vector(0,v,0) #initial momentum\n",
    "\n",
    "scale=3\n",
    "\n",
    "while t<300: #if I make it an infinite loop it will run continuously\n",
    "    rate(100)\n",
    "\n",
    "    #update stuff for the sat1 orbit\n",
    "    sat1.p=sat1.p-GM*norm(sat1.pos)*dt/mag(sat1.pos)**2\n",
    "    sat1.pos=sat1.pos+sat1.p*dt/sat1.m\n",
    "    \n",
    "    sat2.p=sat2.p-GM*norm(sat2.pos)*dt/mag(sat2.pos)**2\n",
    "    sat2.pos=sat2.pos+sat2.p*dt/sat2.m\n",
    "    \n",
    "    '''"
   ]
  },
  {
   "cell_type": "code",
   "execution_count": 4,
   "metadata": {
    "collapsed": false
   },
   "outputs": [
    {
     "data": {
      "text/plain": [
       "'Earth=sphere(pos=vector(0,0,0), radius =1, texture=\"https://i.imgur.com/UZWE6M7.jpg\")\\n\\nR=2.75 #orbita radius in terms of radius of the planet\\nGM=1.47  #GM as determined from the game\\nv=sqrt(GM/R)  #starting speed for a circular orbit\\nrt=0.0338   #this is the acceleration due to the rocket\\n\\n#sat1 is just an object with no thrust so you can see the difference\\n#thrust makes\\nsat1=sphere(pos=vector(R,0,0), radius=0.1, color=color.white, make_trail=True)\\nsat2=sphere(pos=vector(-R,0,0), radius=0.1, color=color.white, make_trail=True)\\n\\nt=0\\ndt=.01\\n\\n#satellite characteristics\\nsat1.m=1\\nsat1.p=sat1.m*vector(0,-v,0) #initial momentum\\nsat2.m=1\\nsat2.p=sat2.m*vector(0,v,0) #initial momentum\\n\\nscale=3\\n\\nwhile t<300: #if I make it an infinite loop it will run continuously\\n    rate(100)\\n\\n    #update stuff for the sat1 orbit\\n    sat1.p=sat1.p-GM*norm(sat1.pos)*dt/mag(sat1.pos)**2\\n    sat1.pos=sat1.pos+sat1.p*dt/sat1.m\\n    \\n    sat2.p=sat2.p-GM*norm(sat2.pos)*dt/mag(sat2.pos)**2\\n    sat2.pos=sat2.pos+sat2.p*dt/sat2.m'"
      ]
     },
     "execution_count": 4,
     "metadata": {},
     "output_type": "execute_result"
    }
   ],
   "source": [
    "'''Earth=sphere(pos=vector(0,0,0), radius =1, texture=\"https://i.imgur.com/UZWE6M7.jpg\")\n",
    "\n",
    "R=2.75 #orbita radius in terms of radius of the planet\n",
    "GM=1.47  #GM as determined from the game\n",
    "v=sqrt(GM/R)  #starting speed for a circular orbit\n",
    "rt=0.0338   #this is the acceleration due to the rocket\n",
    "\n",
    "#sat1 is just an object with no thrust so you can see the difference\n",
    "#thrust makes\n",
    "sat1=sphere(pos=vector(R,0,0), radius=0.1, color=color.white, make_trail=True)\n",
    "sat2=sphere(pos=vector(-R,0,0), radius=0.1, color=color.white, make_trail=True)\n",
    "\n",
    "t=0\n",
    "dt=.01\n",
    "\n",
    "#satellite characteristics\n",
    "sat1.m=1\n",
    "sat1.p=sat1.m*vector(0,-v,0) #initial momentum\n",
    "sat2.m=1\n",
    "sat2.p=sat2.m*vector(0,v,0) #initial momentum\n",
    "\n",
    "scale=3\n",
    "\n",
    "while t<300: #if I make it an infinite loop it will run continuously\n",
    "    rate(100)\n",
    "\n",
    "    #update stuff for the sat1 orbit\n",
    "    sat1.p=sat1.p-GM*norm(sat1.pos)*dt/mag(sat1.pos)**2\n",
    "    sat1.pos=sat1.pos+sat1.p*dt/sat1.m\n",
    "    \n",
    "    sat2.p=sat2.p-GM*norm(sat2.pos)*dt/mag(sat2.pos)**2\n",
    "    sat2.pos=sat2.pos+sat2.p*dt/sat2.m'''\n"
   ]
  },
  {
   "cell_type": "code",
   "execution_count": null,
   "metadata": {
    "collapsed": true
   },
   "outputs": [],
   "source": []
  },
  {
   "cell_type": "code",
   "execution_count": null,
   "metadata": {
    "collapsed": true
   },
   "outputs": [],
   "source": []
  },
  {
   "cell_type": "code",
   "execution_count": null,
   "metadata": {
    "collapsed": true
   },
   "outputs": [],
   "source": []
  },
  {
   "cell_type": "code",
   "execution_count": null,
   "metadata": {
    "collapsed": true
   },
   "outputs": [],
   "source": []
  }
 ],
 "metadata": {
  "kernelspec": {
   "display_name": "Python 3",
   "language": "python",
   "name": "python3"
  },
  "language_info": {
   "codemirror_mode": {
    "name": "ipython",
    "version": 3
   },
   "file_extension": ".py",
   "mimetype": "text/x-python",
   "name": "python",
   "nbconvert_exporter": "python",
   "pygments_lexer": "ipython3",
   "version": "3.5.2"
  }
 },
 "nbformat": 4,
 "nbformat_minor": 2
}
