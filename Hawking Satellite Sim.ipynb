{
 "cells": [
  {
   "cell_type": "code",
   "execution_count": 6,
   "metadata": {
    "scrolled": false
   },
   "outputs": [
    {
     "data": {
      "text/html": [
       "<div id=\"glowscript\" class=\"glowscript\"></div>"
      ],
      "text/plain": [
       "<IPython.core.display.HTML object>"
      ]
     },
     "metadata": {},
     "output_type": "display_data"
    },
    {
     "data": {
      "application/javascript": [
       "window.__context = { glowscript_container: $(\"#glowscript\").removeAttr(\"id\")}"
      ],
      "text/plain": [
       "<IPython.core.display.Javascript object>"
      ]
     },
     "metadata": {},
     "output_type": "display_data"
    }
   ],
   "source": [
    "from vpython import *\n",
    "import math\n",
    "scene = canvas()\n"
   ]
  },
  {
   "cell_type": "code",
   "execution_count": 7,
   "metadata": {},
   "outputs": [
    {
     "ename": "KeyboardInterrupt",
     "evalue": "",
     "output_type": "error",
     "traceback": [
      "\u001b[1;31m---------------------------------------------------------------------------\u001b[0m",
      "\u001b[1;31mKeyboardInterrupt\u001b[0m                         Traceback (most recent call last)",
      "\u001b[1;32m<ipython-input-7-1b74d4c734fe>\u001b[0m in \u001b[0;36m<module>\u001b[1;34m()\u001b[0m\n\u001b[0;32m     55\u001b[0m \u001b[1;31m# Update orbital positions\u001b[0m\u001b[1;33m\u001b[0m\u001b[1;33m\u001b[0m\u001b[0m\n\u001b[0;32m     56\u001b[0m \u001b[1;32mwhile\u001b[0m \u001b[1;32mTrue\u001b[0m\u001b[1;33m:\u001b[0m\u001b[1;33m\u001b[0m\u001b[0m\n\u001b[1;32m---> 57\u001b[1;33m     \u001b[0mrate\u001b[0m\u001b[1;33m(\u001b[0m\u001b[1;36m10\u001b[0m\u001b[1;33m)\u001b[0m \u001b[1;31m#affects smoothness of orbits\u001b[0m\u001b[1;33m\u001b[0m\u001b[0m\n\u001b[0m\u001b[0;32m     58\u001b[0m     \u001b[1;32mfor\u001b[0m \u001b[0msat\u001b[0m \u001b[1;32min\u001b[0m \u001b[0msats1\u001b[0m\u001b[1;33m:\u001b[0m\u001b[1;33m\u001b[0m\u001b[0m\n\u001b[0;32m     59\u001b[0m         \u001b[0msat\u001b[0m\u001b[1;33m.\u001b[0m\u001b[0mp\u001b[0m\u001b[1;33m=\u001b[0m\u001b[0msat\u001b[0m\u001b[1;33m.\u001b[0m\u001b[0mp\u001b[0m\u001b[1;33m-\u001b[0m\u001b[0mGM\u001b[0m\u001b[1;33m*\u001b[0m\u001b[0mnorm\u001b[0m\u001b[1;33m(\u001b[0m\u001b[0msat\u001b[0m\u001b[1;33m.\u001b[0m\u001b[0mpos\u001b[0m\u001b[1;33m)\u001b[0m\u001b[1;33m*\u001b[0m\u001b[0mdt\u001b[0m\u001b[1;33m/\u001b[0m\u001b[0mmag\u001b[0m\u001b[1;33m(\u001b[0m\u001b[0msat\u001b[0m\u001b[1;33m.\u001b[0m\u001b[0mpos\u001b[0m\u001b[1;33m)\u001b[0m\u001b[1;33m**\u001b[0m\u001b[1;36m2\u001b[0m\u001b[1;33m\u001b[0m\u001b[0m\n",
      "\u001b[1;32m~\\Anaconda3\\lib\\site-packages\\vpython\\vpython.py\u001b[0m in \u001b[0;36m__call__\u001b[1;34m(self, N)\u001b[0m\n\u001b[0;32m    214\u001b[0m         \u001b[0mself\u001b[0m\u001b[1;33m.\u001b[0m\u001b[0mrval\u001b[0m \u001b[1;33m=\u001b[0m \u001b[0mN\u001b[0m\u001b[1;33m\u001b[0m\u001b[0m\n\u001b[0;32m    215\u001b[0m         \u001b[1;32mif\u001b[0m \u001b[0mself\u001b[0m\u001b[1;33m.\u001b[0m\u001b[0mrval\u001b[0m \u001b[1;33m<\u001b[0m \u001b[1;36m1\u001b[0m\u001b[1;33m:\u001b[0m \u001b[1;32mraise\u001b[0m \u001b[0mValueError\u001b[0m\u001b[1;33m(\u001b[0m\u001b[1;34m\"rate value must be greater than or equal to 1\"\u001b[0m\u001b[1;33m)\u001b[0m\u001b[1;33m\u001b[0m\u001b[0m\n\u001b[1;32m--> 216\u001b[1;33m         \u001b[0msuper\u001b[0m\u001b[1;33m(\u001b[0m\u001b[0m_RateKeeper2\u001b[0m\u001b[1;33m,\u001b[0m \u001b[0mself\u001b[0m\u001b[1;33m)\u001b[0m\u001b[1;33m.\u001b[0m\u001b[0m__call__\u001b[0m\u001b[1;33m(\u001b[0m\u001b[0mself\u001b[0m\u001b[1;33m.\u001b[0m\u001b[0mrval\u001b[0m\u001b[1;33m)\u001b[0m \u001b[1;31m## calls __call__ in rate_control.py\u001b[0m\u001b[1;33m\u001b[0m\u001b[0m\n\u001b[0m\u001b[0;32m    217\u001b[0m \u001b[1;33m\u001b[0m\u001b[0m\n\u001b[0;32m    218\u001b[0m \u001b[1;32mif\u001b[0m \u001b[0msys\u001b[0m\u001b[1;33m.\u001b[0m\u001b[0mversion\u001b[0m \u001b[1;33m>\u001b[0m \u001b[1;34m'3'\u001b[0m\u001b[1;33m:\u001b[0m\u001b[1;33m\u001b[0m\u001b[0m\n",
      "\u001b[1;32m~\\Anaconda3\\lib\\site-packages\\vpython\\rate_control.py\u001b[0m in \u001b[0;36m__call__\u001b[1;34m(self, maxRate)\u001b[0m\n\u001b[0;32m    199\u001b[0m                 \u001b[1;32mif\u001b[0m \u001b[0mself\u001b[0m\u001b[1;33m.\u001b[0m\u001b[0mwhenToRender\u001b[0m\u001b[1;33m[\u001b[0m\u001b[0mself\u001b[0m\u001b[1;33m.\u001b[0m\u001b[0mrenderIndex\u001b[0m\u001b[1;33m]\u001b[0m \u001b[1;33m==\u001b[0m \u001b[0mself\u001b[0m\u001b[1;33m.\u001b[0m\u001b[0mrateCount\u001b[0m\u001b[1;33m:\u001b[0m\u001b[1;33m\u001b[0m\u001b[0m\n\u001b[0;32m    200\u001b[0m                     \u001b[0msleeps\u001b[0m \u001b[1;33m+=\u001b[0m \u001b[1;36m1\u001b[0m\u001b[1;33m\u001b[0m\u001b[0m\n\u001b[1;32m--> 201\u001b[1;33m                     \u001b[0m_sleep\u001b[0m\u001b[1;33m(\u001b[0m\u001b[0mself\u001b[0m\u001b[1;33m.\u001b[0m\u001b[0minteractionPeriod\u001b[0m\u001b[1;33m)\u001b[0m\u001b[1;33m\u001b[0m\u001b[0m\n\u001b[0m\u001b[0;32m    202\u001b[0m                 \u001b[1;32melse\u001b[0m\u001b[1;33m:\u001b[0m\u001b[1;33m\u001b[0m\u001b[0m\n\u001b[0;32m    203\u001b[0m                     \u001b[1;32mbreak\u001b[0m\u001b[1;33m\u001b[0m\u001b[0m\n",
      "\u001b[1;32m~\\Anaconda3\\lib\\site-packages\\vpython\\rate_control.py\u001b[0m in \u001b[0;36m_sleep\u001b[1;34m(dt)\u001b[0m\n\u001b[0;32m     47\u001b[0m         \u001b[0mdtsleep\u001b[0m \u001b[1;33m=\u001b[0m \u001b[0mnticks\u001b[0m\u001b[1;33m*\u001b[0m\u001b[0m_tick\u001b[0m\u001b[1;33m\u001b[0m\u001b[0m\n\u001b[0;32m     48\u001b[0m         \u001b[0mt\u001b[0m \u001b[1;33m=\u001b[0m \u001b[0m_clock\u001b[0m\u001b[1;33m(\u001b[0m\u001b[1;33m)\u001b[0m\u001b[1;33m\u001b[0m\u001b[0m\n\u001b[1;32m---> 49\u001b[1;33m         \u001b[0mtime\u001b[0m\u001b[1;33m.\u001b[0m\u001b[0msleep\u001b[0m\u001b[1;33m(\u001b[0m\u001b[0mdtsleep\u001b[0m\u001b[1;33m)\u001b[0m\u001b[1;33m\u001b[0m\u001b[0m\n\u001b[0m\u001b[0;32m     50\u001b[0m         \u001b[0mt\u001b[0m \u001b[1;33m=\u001b[0m \u001b[0m_clock\u001b[0m\u001b[1;33m(\u001b[0m\u001b[1;33m)\u001b[0m\u001b[1;33m-\u001b[0m\u001b[0mt\u001b[0m\u001b[1;33m\u001b[0m\u001b[0m\n\u001b[0;32m     51\u001b[0m         \u001b[0mdt\u001b[0m \u001b[1;33m-=\u001b[0m \u001b[0mt\u001b[0m\u001b[1;33m\u001b[0m\u001b[0m\n",
      "\u001b[1;31mKeyboardInterrupt\u001b[0m: "
     ]
    }
   ],
   "source": [
    "#any way to make orbits line up perfectly?\n",
    "Earth=sphere(pos=vector(0,0,0), radius =1, texture=\"https://i.imgur.com/UZWE6M7.jpg\")\n",
    "\n",
    "R=2.5 #orbita radius in terms of radius of the planet\n",
    "GM=1.47  #GM as determined from the game\n",
    "v=sqrt(GM/R)  #starting speed for a circular orbit\n",
    "rt=0.0338   #this is the acceleration due to the rocket\n",
    "pi = math.pi;\n",
    "\n",
    "# n is number of satellites in this orbit\n",
    "'''May need to create a class called Sat later'''\n",
    "n = 6\n",
    "\n",
    "#need a way to create n orbits of n satellites. The latter has been done already.\n",
    "sats1 = list()\n",
    "for i in range(n):\n",
    "    # Position\n",
    "    Rx = R*math.cos(i*2*pi/n) #need to include i to initialize multiple satellites\n",
    "    Ry = R*math.sin(i*2*pi/n)\n",
    "    Rz = 0 #keep things 2D for now \n",
    "    \n",
    "    # Velocity\n",
    "    Vx = v*math.sin(i*2*pi/n)\n",
    "    Vy = -v*math.cos(i*2*pi/n)\n",
    "    Vz = 0\n",
    "    \n",
    "    sat = sphere(pos=vector(Rx,Ry,Rz), radius=0.1, color=color.white, make_trail=True)\n",
    "    sat.m = 1\n",
    "    sat.p=sat.m*vector(Vx,Vy,Vz) #initial momentum\n",
    "    sats1.append(sat)\n",
    "    \n",
    "'''\n",
    "sats2 = list()\n",
    "for i in range(n):\n",
    "    # Position\n",
    "    Rx = R*math.cos(i*2*pi/n) #need to include i to initialize multiple satellites\n",
    "    Ry = R*math.sin(i*2*pi/n)\n",
    "    Rz = -1 #keep things 2D for now \n",
    "    \n",
    "    # Velocity\n",
    "    Vx = v*math.sin(i*2*pi/n)\n",
    "    Vy = -v*math.cos(i*2*pi/n)\n",
    "    Vz = 0\n",
    "    \n",
    "    sat = sphere(pos=vector(Rx,Ry,Rz), radius=0.1, color=color.white, make_trail=True)\n",
    "    sat.m = 1\n",
    "    sat.p=sat.m*vector(Vx,Vy,Vz) #initial momentum\n",
    "    sats2.append(sat)\n",
    "'''\n",
    "\n",
    "t=0\n",
    "dt=0.1 #affects smoothness of orbits\n",
    " \n",
    "#is there any way to track smoother paths? Smaller time steps probably. Or change the rate?\n",
    "# Update orbital positions\n",
    "while True:\n",
    "    rate(10) #affects smoothness of orbits\n",
    "    for sat in sats1:\n",
    "        sat.p=sat.p-GM*norm(sat.pos)*dt/mag(sat.pos)**2\n",
    "        sat.pos=sat.pos+sat.p*dt/sat.m\n",
    "    #for sat in sats2:\n",
    "     #   sat.p=sat.p-GM*norm(sat.pos)*dt/mag(sat.pos)**2\n",
    "      #  sat.pos=sat.pos+sat.p*dt/sat.m\n",
    "'''\n",
    "t=0\n",
    "dt=.01\n",
    "\n",
    "#satellite characteristics\n",
    "sat1.m=1\n",
    "sat1.p=sat1.m*vector(0,-v,0) #initial momentum\n",
    "sat2.m=1\n",
    "sat2.p=sat2.m*vector(0,v,0) #initial momentum\n",
    "\n",
    "scale=3\n",
    "\n",
    "while t<300: #if I make it an infinite loop it will run continuously\n",
    "    rate(100)\n",
    "\n",
    "    #update stuff for the sat1 orbit\n",
    "    sat1.p=sat1.p-GM*norm(sat1.pos)*dt/mag(sat1.pos)**2\n",
    "    sat1.pos=sat1.pos+sat1.p*dt/sat1.m\n",
    "    \n",
    "    sat2.p=sat2.p-GM*norm(sat2.pos)*dt/mag(sat2.pos)**2\n",
    "    sat2.pos=sat2.pos+sat2.p*dt/sat2.m\n",
    "    \n",
    "    '''"
   ]
  },
  {
   "cell_type": "code",
   "execution_count": null,
   "metadata": {},
   "outputs": [],
   "source": [
    "'''Earth=sphere(pos=vector(0,0,0), radius =1, texture=\"https://i.imgur.com/UZWE6M7.jpg\")\n",
    "\n",
    "R=2.75 #orbita radius in terms of radius of the planet\n",
    "GM=1.47  #GM as determined from the game\n",
    "v=sqrt(GM/R)  #starting speed for a circular orbit\n",
    "rt=0.0338   #this is the acceleration due to the rocket\n",
    "\n",
    "#sat1 is just an object with no thrust so you can see the difference\n",
    "#thrust makes\n",
    "sat1=sphere(pos=vector(R,0,0), radius=0.1, color=color.white, make_trail=True)\n",
    "sat2=sphere(pos=vector(-R,0,0), radius=0.1, color=color.white, make_trail=True)\n",
    "\n",
    "t=0\n",
    "dt=.01\n",
    "\n",
    "#satellite characteristics\n",
    "sat1.m=1\n",
    "sat1.p=sat1.m*vector(0,-v,0) #initial momentum\n",
    "sat2.m=1\n",
    "sat2.p=sat2.m*vector(0,v,0) #initial momentum\n",
    "\n",
    "scale=3\n",
    "\n",
    "while t<300: #if I make it an infinite loop it will run continuously\n",
    "    rate(100)\n",
    "\n",
    "    #update stuff for the sat1 orbit\n",
    "    sat1.p=sat1.p-GM*norm(sat1.pos)*dt/mag(sat1.pos)**2\n",
    "    sat1.pos=sat1.pos+sat1.p*dt/sat1.m\n",
    "    \n",
    "    sat2.p=sat2.p-GM*norm(sat2.pos)*dt/mag(sat2.pos)**2\n",
    "    sat2.pos=sat2.pos+sat2.p*dt/sat2.m'''\n"
   ]
  },
  {
   "cell_type": "code",
   "execution_count": null,
   "metadata": {},
   "outputs": [],
   "source": []
  },
  {
   "cell_type": "code",
   "execution_count": null,
   "metadata": {},
   "outputs": [],
   "source": []
  },
  {
   "cell_type": "code",
   "execution_count": null,
   "metadata": {},
   "outputs": [],
   "source": []
  },
  {
   "cell_type": "code",
   "execution_count": null,
   "metadata": {},
   "outputs": [],
   "source": []
  }
 ],
 "metadata": {
  "kernelspec": {
   "display_name": "VPython",
   "language": "python",
   "name": "vpython"
  },
  "language_info": {
   "codemirror_mode": {
    "name": "ipython",
    "version": 3
   },
   "file_extension": ".py",
   "mimetype": "text/x-python",
   "name": "python",
   "nbconvert_exporter": "python",
   "pygments_lexer": "ipython3",
   "version": "3.6.4"
  }
 },
 "nbformat": 4,
 "nbformat_minor": 2
}
